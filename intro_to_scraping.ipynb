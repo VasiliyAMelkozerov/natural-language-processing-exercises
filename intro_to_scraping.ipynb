{
 "cells": [
  {
   "cell_type": "markdown",
   "id": "092afe0d",
   "metadata": {},
   "source": [
    "# Intro to Web Scraping\n",
    "- Use `requests` to download the HTML\n",
    "- Use `BeautifulSoup` to parse that HTML to get the thing(s) you need"
   ]
  },
  {
   "cell_type": "markdown",
   "id": "d94ab8d2",
   "metadata": {},
   "source": [
    "## Process\n",
    "- Step 1: use the `request` library to make an HTTP request across the web\n",
    "- Step 2: use the `reponse.text` property on the `response` object to get the text of the HTML"
   ]
  },
  {
   "cell_type": "code",
   "execution_count": 1,
   "id": "32ffeca4",
   "metadata": {},
   "outputs": [],
   "source": [
    "from requests import get\n",
    "from bs4 import BeautifulSoup"
   ]
  },
  {
   "cell_type": "code",
   "execution_count": 2,
   "id": "38b133db",
   "metadata": {},
   "outputs": [],
   "source": [
    "url = \"https://site-to-scrape.glitch.me\""
   ]
  },
  {
   "cell_type": "code",
   "execution_count": 3,
   "id": "d54165e3",
   "metadata": {},
   "outputs": [
    {
     "data": {
      "text/plain": [
       "<Response [200]>"
      ]
     },
     "execution_count": 3,
     "metadata": {},
     "output_type": "execute_result"
    }
   ],
   "source": [
    "headers = {'User-Agent': 'Codeup Data Science'} # Some websites don't accept the pyhon-requests default user-agent\n",
    "response = get(url, headers=headers)\n",
    "\n",
    "response"
   ]
  },
  {
   "cell_type": "code",
   "execution_count": 4,
   "id": "95e54cb4",
   "metadata": {},
   "outputs": [
    {
     "data": {
      "text/plain": [
       "b'<!DOCTYPE html>\\n<html lang=\"en\">\\n  <head>\\n    <title>Site to Scrape!</title>\\n    <meta charset=\"utf-8\">\\n    <meta http-equiv=\"X-UA-Compatible\" content=\"IE=edge\">\\n    <meta name=\"viewport\" content=\"width=device-width, initial-scale=1\">\\n    \\n    <!-- import the webpage\\'s stylesheet -->\\n    <link rel=\"stylesheet\" href=\"/style.css\">\\n    \\n    <!-- import the webpage\\'s javascript file -->\\n    <script src=\"/script.js\" defer></script>\\n  </head>  \\n  <body>\\n    <header>\\n      <h1>This is the header!</h1>\\n      <hr>\\n    </header>\\n    \\n    <main>\\n      <div>\\n        <h1 class=\"first\">\\n        This is the main\\n        </h1>\\n        <h2>\\n          This is an h2 of main\\n        </h2>\\n        <h3>\\n          H3 inside of first div inside of main\\n        </h3>\\n      </div>\\n      <div>\\n        <h3 class=\"first\">\\n          H3 inside of second div inside of main.\\n        </h3>\\n        <p>\\n          Here\\'s some text content for us to scrape! \\xf0\\x9f\\x91\\xbd\\n        </p>\\n        <p>\\n          Here\\'s another paragraph of content! \\xe2\\x98\\xa0\\xef\\xb8\\x8f\\n        </p>\\n        <a href=\"https://github.com/ryanorsinger\">Click here to visit my portfolio</a>       \\n      </div>\\n    </main>\\n\\n    <footer>\\n      <h1>This is the footer</h1>\\n      <img src=\"https://traffic-analytics.glitch.me/counter.png?fallback=MY_WEBSITE&color=black\" alt=\"\" style=\"vertical-align: bottom;\" aria-hidden=\"true\">\\n    </footer>\\n\\n  </body>\\n</html>\\n'"
      ]
     },
     "execution_count": 4,
     "metadata": {},
     "output_type": "execute_result"
    }
   ],
   "source": [
    "response.content"
   ]
  },
  {
   "cell_type": "code",
   "execution_count": 5,
   "id": "85cbe785",
   "metadata": {},
   "outputs": [],
   "source": [
    "# Make a soup variable holding the response content\n",
    "soup = BeautifulSoup(response.content, 'html.parser')"
   ]
  },
  {
   "cell_type": "code",
   "execution_count": 6,
   "id": "a773ac63",
   "metadata": {},
   "outputs": [
    {
     "data": {
      "text/plain": [
       "bs4.BeautifulSoup"
      ]
     },
     "execution_count": 6,
     "metadata": {},
     "output_type": "execute_result"
    }
   ],
   "source": [
    "type(soup)"
   ]
  },
  {
   "cell_type": "code",
   "execution_count": 7,
   "id": "2e3268cf",
   "metadata": {},
   "outputs": [
    {
     "data": {
      "text/plain": [
       "bs4.element.Tag"
      ]
     },
     "execution_count": 7,
     "metadata": {},
     "output_type": "execute_result"
    }
   ],
   "source": [
    "type(soup.title)"
   ]
  },
  {
   "cell_type": "code",
   "execution_count": 8,
   "id": "b021ef34",
   "metadata": {},
   "outputs": [
    {
     "data": {
      "text/plain": [
       "<title>Site to Scrape!</title>"
      ]
     },
     "execution_count": 8,
     "metadata": {},
     "output_type": "execute_result"
    }
   ],
   "source": [
    "soup.title"
   ]
  },
  {
   "cell_type": "code",
   "execution_count": 9,
   "id": "d1e97766",
   "metadata": {},
   "outputs": [
    {
     "data": {
      "text/plain": [
       "'Site to Scrape!'"
      ]
     },
     "execution_count": 9,
     "metadata": {},
     "output_type": "execute_result"
    }
   ],
   "source": [
    "soup.title.text"
   ]
  },
  {
   "cell_type": "code",
   "execution_count": 10,
   "id": "361a4268",
   "metadata": {},
   "outputs": [
    {
     "data": {
      "text/plain": [
       "<h1>This is the header!</h1>"
      ]
     },
     "execution_count": 10,
     "metadata": {},
     "output_type": "execute_result"
    }
   ],
   "source": [
    "soup.h1"
   ]
  },
  {
   "cell_type": "code",
   "execution_count": 11,
   "id": "a9e8bdd8",
   "metadata": {},
   "outputs": [
    {
     "data": {
      "text/plain": [
       "<h2>\n",
       "          This is an h2 of main\n",
       "        </h2>"
      ]
     },
     "execution_count": 11,
     "metadata": {},
     "output_type": "execute_result"
    }
   ],
   "source": [
    "# Returns the first match only with this dot syntax\n",
    "soup.h2"
   ]
  },
  {
   "cell_type": "code",
   "execution_count": 12,
   "id": "24782118",
   "metadata": {},
   "outputs": [
    {
     "data": {
      "text/plain": [
       "\"\\n\\n\\nSite to Scrape!\\n\\n\\n\\n\\n\\n\\n\\n\\n\\n\\nThis is the header!\\n\\n\\n\\n\\n\\n        This is the main\\n        \\n\\n          This is an h2 of main\\n        \\n\\n          H3 inside of first div inside of main\\n        \\n\\n\\n\\n          H3 inside of second div inside of main.\\n        \\n\\n          Here's some text content for us to scrape! 👽\\n        \\n\\n          Here's another paragraph of content! ☠️\\n        \\nClick here to visit my portfolio\\n\\n\\n\\nThis is the footer\\n\\n\\n\\n\\n\""
      ]
     },
     "execution_count": 12,
     "metadata": {},
     "output_type": "execute_result"
    }
   ],
   "source": [
    "soup.text"
   ]
  },
  {
   "cell_type": "code",
   "execution_count": 13,
   "id": "3800259e",
   "metadata": {},
   "outputs": [
    {
     "data": {
      "text/plain": [
       "'\\n          This is an h2 of main\\n        '"
      ]
     },
     "execution_count": 13,
     "metadata": {},
     "output_type": "execute_result"
    }
   ],
   "source": [
    "# soup.element returns a beautifulsoup Tag object\n",
    "soup.h2.text"
   ]
  },
  {
   "cell_type": "code",
   "execution_count": 14,
   "id": "717508a1",
   "metadata": {},
   "outputs": [
    {
     "data": {
      "text/plain": [
       "'This is an h2 of main'"
      ]
     },
     "execution_count": 14,
     "metadata": {},
     "output_type": "execute_result"
    }
   ],
   "source": [
    "soup.h2.text.strip()"
   ]
  },
  {
   "cell_type": "code",
   "execution_count": 15,
   "id": "1024062b",
   "metadata": {},
   "outputs": [
    {
     "data": {
      "text/plain": [
       "' main'"
      ]
     },
     "execution_count": 15,
     "metadata": {},
     "output_type": "execute_result"
    }
   ],
   "source": [
    "soup.h2.text.strip()[-5:]"
   ]
  },
  {
   "cell_type": "code",
   "execution_count": 16,
   "id": "86367a18",
   "metadata": {},
   "outputs": [
    {
     "data": {
      "text/plain": [
       "[<h3>\n",
       "           H3 inside of first div inside of main\n",
       "         </h3>,\n",
       " <h3 class=\"first\">\n",
       "           H3 inside of second div inside of main.\n",
       "         </h3>]"
      ]
     },
     "execution_count": 16,
     "metadata": {},
     "output_type": "execute_result"
    }
   ],
   "source": [
    "# find_all returns a result set, which is like a list, but has more BeautifulSoup functionality\n",
    "soup.find_all(\"h3\")"
   ]
  },
  {
   "cell_type": "code",
   "execution_count": 17,
   "id": "0e367c18",
   "metadata": {},
   "outputs": [
    {
     "data": {
      "text/plain": [
       "bs4.element.Tag"
      ]
     },
     "execution_count": 17,
     "metadata": {},
     "output_type": "execute_result"
    }
   ],
   "source": [
    "type(soup.find_all(\"h3\")[0])"
   ]
  },
  {
   "cell_type": "code",
   "execution_count": 18,
   "id": "6177d9b2",
   "metadata": {},
   "outputs": [
    {
     "data": {
      "text/plain": [
       "<h3>\n",
       "          H3 inside of first div inside of main\n",
       "        </h3>"
      ]
     },
     "execution_count": 18,
     "metadata": {},
     "output_type": "execute_result"
    }
   ],
   "source": [
    "soup.find_all(\"h3\")[0]"
   ]
  },
  {
   "cell_type": "code",
   "execution_count": 19,
   "id": "8f6fe0bf",
   "metadata": {},
   "outputs": [
    {
     "data": {
      "text/plain": [
       "'\\n          H3 inside of first div inside of main\\n        '"
      ]
     },
     "execution_count": 19,
     "metadata": {},
     "output_type": "execute_result"
    }
   ],
   "source": [
    "# BeautifulSoup Tag element\n",
    "soup.find_all(\"h3\")[0].text"
   ]
  },
  {
   "cell_type": "code",
   "execution_count": 20,
   "id": "bf3886e8",
   "metadata": {},
   "outputs": [
    {
     "data": {
      "text/plain": [
       "<!DOCTYPE html>\n",
       "\n",
       "<html lang=\"en\">\n",
       "<head>\n",
       "<title>Site to Scrape!</title>\n",
       "<meta charset=\"utf-8\"/>\n",
       "<meta content=\"IE=edge\" http-equiv=\"X-UA-Compatible\"/>\n",
       "<meta content=\"width=device-width, initial-scale=1\" name=\"viewport\"/>\n",
       "<!-- import the webpage's stylesheet -->\n",
       "<link href=\"/style.css\" rel=\"stylesheet\"/>\n",
       "<!-- import the webpage's javascript file -->\n",
       "<script defer=\"\" src=\"/script.js\"></script>\n",
       "</head>\n",
       "<body>\n",
       "<header>\n",
       "<h1>This is the header!</h1>\n",
       "<hr/>\n",
       "</header>\n",
       "<main>\n",
       "<div>\n",
       "<h1 class=\"first\">\n",
       "        This is the main\n",
       "        </h1>\n",
       "<h2>\n",
       "          This is an h2 of main\n",
       "        </h2>\n",
       "<h3>\n",
       "          H3 inside of first div inside of main\n",
       "        </h3>\n",
       "</div>\n",
       "<div>\n",
       "<h3 class=\"first\">\n",
       "          H3 inside of second div inside of main.\n",
       "        </h3>\n",
       "<p>\n",
       "          Here's some text content for us to scrape! 👽\n",
       "        </p>\n",
       "<p>\n",
       "          Here's another paragraph of content! ☠️\n",
       "        </p>\n",
       "<a href=\"https://github.com/ryanorsinger\">Click here to visit my portfolio</a>\n",
       "</div>\n",
       "</main>\n",
       "<footer>\n",
       "<h1>This is the footer</h1>\n",
       "<img alt=\"\" aria-hidden=\"true\" src=\"https://traffic-analytics.glitch.me/counter.png?fallback=MY_WEBSITE&amp;color=black\" style=\"vertical-align: bottom;\"/>\n",
       "</footer>\n",
       "</body>\n",
       "</html>"
      ]
     },
     "execution_count": 20,
     "metadata": {},
     "output_type": "execute_result"
    }
   ],
   "source": [
    "soup"
   ]
  },
  {
   "cell_type": "code",
   "execution_count": 21,
   "id": "b52e3c22",
   "metadata": {},
   "outputs": [
    {
     "data": {
      "text/plain": [
       "bs4.element.ResultSet"
      ]
     },
     "execution_count": 21,
     "metadata": {},
     "output_type": "execute_result"
    }
   ],
   "source": [
    "type(soup.select(\"p\"))"
   ]
  },
  {
   "cell_type": "code",
   "execution_count": 22,
   "id": "d60dad2b",
   "metadata": {},
   "outputs": [
    {
     "data": {
      "text/plain": [
       "[<p>\n",
       "           Here's some text content for us to scrape! 👽\n",
       "         </p>,\n",
       " <p>\n",
       "           Here's another paragraph of content! ☠️\n",
       "         </p>]"
      ]
     },
     "execution_count": 22,
     "metadata": {},
     "output_type": "execute_result"
    }
   ],
   "source": [
    "soup.select(\"p\")"
   ]
  },
  {
   "cell_type": "code",
   "execution_count": 23,
   "id": "726d48a9",
   "metadata": {},
   "outputs": [
    {
     "data": {
      "text/plain": [
       "<a href=\"https://github.com/ryanorsinger\">Click here to visit my portfolio</a>"
      ]
     },
     "execution_count": 23,
     "metadata": {},
     "output_type": "execute_result"
    }
   ],
   "source": [
    "soup.select_one(\"a\")"
   ]
  },
  {
   "cell_type": "code",
   "execution_count": 24,
   "id": "44156a2f",
   "metadata": {},
   "outputs": [
    {
     "data": {
      "text/plain": [
       "[<a href=\"https://github.com/ryanorsinger\">Click here to visit my portfolio</a>]"
      ]
     },
     "execution_count": 24,
     "metadata": {},
     "output_type": "execute_result"
    }
   ],
   "source": [
    "# .select will return a ResultSet even if there's only one of something\n",
    "soup.select(\"a\")"
   ]
  },
  {
   "cell_type": "code",
   "execution_count": 25,
   "id": "ac1823da",
   "metadata": {},
   "outputs": [
    {
     "data": {
      "text/plain": [
       "[<img alt=\"\" aria-hidden=\"true\" src=\"https://traffic-analytics.glitch.me/counter.png?fallback=MY_WEBSITE&amp;color=black\" style=\"vertical-align: bottom;\"/>]"
      ]
     },
     "execution_count": 25,
     "metadata": {},
     "output_type": "execute_result"
    }
   ],
   "source": [
    "soup.select(\"img\")"
   ]
  },
  {
   "cell_type": "code",
   "execution_count": 26,
   "id": "434987aa",
   "metadata": {},
   "outputs": [
    {
     "data": {
      "text/plain": [
       "[]"
      ]
     },
     "execution_count": 26,
     "metadata": {},
     "output_type": "execute_result"
    }
   ],
   "source": [
    "soup.select(\"h5\")"
   ]
  },
  {
   "cell_type": "code",
   "execution_count": 27,
   "id": "914ffbbf",
   "metadata": {},
   "outputs": [
    {
     "data": {
      "text/plain": [
       "bs4.element.ResultSet"
      ]
     },
     "execution_count": 27,
     "metadata": {},
     "output_type": "execute_result"
    }
   ],
   "source": [
    "type(soup.select(\"body\"))"
   ]
  },
  {
   "cell_type": "code",
   "execution_count": 28,
   "id": "362af8f1",
   "metadata": {},
   "outputs": [
    {
     "data": {
      "text/plain": [
       "bs4.element.Tag"
      ]
     },
     "execution_count": 28,
     "metadata": {},
     "output_type": "execute_result"
    }
   ],
   "source": [
    "type(soup.select(\"body\")[0])"
   ]
  },
  {
   "cell_type": "code",
   "execution_count": 29,
   "id": "d30e5174",
   "metadata": {},
   "outputs": [
    {
     "data": {
      "text/plain": [
       "\"\\n\\nThis is the header!\\n\\n\\n\\n\\n\\n        This is the main\\n        \\n\\n          This is an h2 of main\\n        \\n\\n          H3 inside of first div inside of main\\n        \\n\\n\\n\\n          H3 inside of second div inside of main.\\n        \\n\\n          Here's some text content for us to scrape! 👽\\n        \\n\\n          Here's another paragraph of content! ☠️\\n        \\nClick here to visit my portfolio\\n\\n\\n\\nThis is the footer\\n\\n\\n\""
      ]
     },
     "execution_count": 29,
     "metadata": {},
     "output_type": "execute_result"
    }
   ],
   "source": [
    "soup.select(\"body\")[0].text"
   ]
  },
  {
   "cell_type": "code",
   "execution_count": 30,
   "id": "22861439",
   "metadata": {},
   "outputs": [
    {
     "data": {
      "text/plain": [
       "<footer>\n",
       "<h1>This is the footer</h1>\n",
       "<img alt=\"\" aria-hidden=\"true\" src=\"https://traffic-analytics.glitch.me/counter.png?fallback=MY_WEBSITE&amp;color=black\" style=\"vertical-align: bottom;\"/>\n",
       "</footer>"
      ]
     },
     "execution_count": 30,
     "metadata": {},
     "output_type": "execute_result"
    }
   ],
   "source": [
    "soup.select_one(\"footer\")"
   ]
  },
  {
   "cell_type": "code",
   "execution_count": 31,
   "id": "dbad6b65",
   "metadata": {},
   "outputs": [
    {
     "data": {
      "text/plain": [
       "'\\nThis is the footer\\n\\n'"
      ]
     },
     "execution_count": 31,
     "metadata": {},
     "output_type": "execute_result"
    }
   ],
   "source": [
    "soup.select_one(\"footer\").text"
   ]
  },
  {
   "cell_type": "code",
   "execution_count": 32,
   "id": "779b891c",
   "metadata": {},
   "outputs": [
    {
     "data": {
      "text/plain": [
       "<img alt=\"\" aria-hidden=\"true\" src=\"https://traffic-analytics.glitch.me/counter.png?fallback=MY_WEBSITE&amp;color=black\" style=\"vertical-align: bottom;\"/>"
      ]
     },
     "execution_count": 32,
     "metadata": {},
     "output_type": "execute_result"
    }
   ],
   "source": [
    "soup.select_one(\"footer\").img"
   ]
  },
  {
   "cell_type": "code",
   "execution_count": 33,
   "id": "bf1515f5",
   "metadata": {},
   "outputs": [
    {
     "data": {
      "text/plain": [
       "'https://traffic-analytics.glitch.me/counter.png?fallback=MY_WEBSITE&color=black'"
      ]
     },
     "execution_count": 33,
     "metadata": {},
     "output_type": "execute_result"
    }
   ],
   "source": [
    "# Use dictionary syntax to access the attribute values\n",
    "soup.select_one(\"footer\").img[\"src\"]"
   ]
  },
  {
   "cell_type": "code",
   "execution_count": 34,
   "id": "b46719f1",
   "metadata": {},
   "outputs": [
    {
     "data": {
      "text/plain": [
       "<a href=\"https://github.com/ryanorsinger\">Click here to visit my portfolio</a>"
      ]
     },
     "execution_count": 34,
     "metadata": {},
     "output_type": "execute_result"
    }
   ],
   "source": [
    "soup.select_one(\"a\")"
   ]
  },
  {
   "cell_type": "code",
   "execution_count": 35,
   "id": "56a9a004",
   "metadata": {},
   "outputs": [
    {
     "data": {
      "text/plain": [
       "'https://github.com/ryanorsinger'"
      ]
     },
     "execution_count": 35,
     "metadata": {},
     "output_type": "execute_result"
    }
   ],
   "source": [
    "url = soup.select_one(\"a\")[\"href\"]\n",
    "url"
   ]
  },
  {
   "cell_type": "code",
   "execution_count": 36,
   "id": "2984b122",
   "metadata": {},
   "outputs": [],
   "source": [
    "response2 = get(url, headers=headers)"
   ]
  },
  {
   "cell_type": "code",
   "execution_count": 37,
   "id": "42a7daab",
   "metadata": {},
   "outputs": [
    {
     "data": {
      "text/plain": [
       "<p>\n",
       "            Prevent this user from interacting with your repositories and sending you notifications.\n",
       "          Learn more about <a href=\"https://docs.github.com/en/articles/blocking-a-user-from-your-personal-account\">blocking users</a>.\n",
       "        </p>"
      ]
     },
     "execution_count": 37,
     "metadata": {},
     "output_type": "execute_result"
    }
   ],
   "source": [
    "github_soup = BeautifulSoup(response2.content, 'html.parser')\n",
    "github_soup.main.p"
   ]
  },
  {
   "cell_type": "code",
   "execution_count": 38,
   "id": "39b74528",
   "metadata": {},
   "outputs": [
    {
     "data": {
      "text/plain": [
       "147"
      ]
     },
     "execution_count": 38,
     "metadata": {},
     "output_type": "execute_result"
    }
   ],
   "source": [
    "len(github_soup.select(\"a\"))"
   ]
  },
  {
   "cell_type": "code",
   "execution_count": 39,
   "id": "39a72376",
   "metadata": {},
   "outputs": [
    {
     "data": {
      "text/plain": [
       "['#start-of-content',\n",
       " 'https://github.com/',\n",
       " '/signup?ref_cta=Sign+up&ref_loc=header+logged+out&ref_page=%2F%3Cuser-name%3E&source=header',\n",
       " '/features',\n",
       " '/mobile',\n",
       " '/features/actions',\n",
       " '/features/codespaces',\n",
       " '/features/copilot',\n",
       " '/features/packages',\n",
       " '/features/security']"
      ]
     },
     "execution_count": 39,
     "metadata": {},
     "output_type": "execute_result"
    }
   ],
   "source": [
    "# How to get all of the URLs from each link\n",
    "anchors = github_soup.select(\"a\")\n",
    "urls = []\n",
    "for a in anchors:\n",
    "    # To access an HTML tag's attribute, use dictionary syntax\n",
    "    href = a[\"href\"]\n",
    "    urls.append(href)\n",
    "\n",
    "urls[0:10]"
   ]
  },
  {
   "cell_type": "code",
   "execution_count": 40,
   "id": "1ae200c9",
   "metadata": {},
   "outputs": [
    {
     "data": {
      "text/plain": [
       "'https://github.com/ryanorsinger'"
      ]
     },
     "execution_count": 40,
     "metadata": {},
     "output_type": "execute_result"
    }
   ],
   "source": [
    "response2.url"
   ]
  },
  {
   "cell_type": "code",
   "execution_count": 41,
   "id": "70a79090",
   "metadata": {},
   "outputs": [
    {
     "data": {
      "text/plain": [
       "[<p>\n",
       "           Here's some text content for us to scrape! 👽\n",
       "         </p>,\n",
       " <p>\n",
       "           Here's another paragraph of content! ☠️\n",
       "         </p>]"
      ]
     },
     "execution_count": 41,
     "metadata": {},
     "output_type": "execute_result"
    }
   ],
   "source": [
    "# .select and .select_one take CSS selectors\n",
    "# elements themselves are a string of that element\n",
    "soup.select(\"p\")"
   ]
  },
  {
   "cell_type": "code",
   "execution_count": 42,
   "id": "73ee6f68",
   "metadata": {},
   "outputs": [
    {
     "data": {
      "text/plain": [
       "[<a href=\"https://github.com/ryanorsinger\">Click here to visit my portfolio</a>]"
      ]
     },
     "execution_count": 42,
     "metadata": {},
     "output_type": "execute_result"
    }
   ],
   "source": [
    "soup.select(\"a\")"
   ]
  },
  {
   "cell_type": "code",
   "execution_count": 43,
   "id": "0115d09b",
   "metadata": {},
   "outputs": [
    {
     "data": {
      "text/plain": [
       "[<h1 class=\"first\">\n",
       "         This is the main\n",
       "         </h1>,\n",
       " <h3 class=\"first\">\n",
       "           H3 inside of second div inside of main.\n",
       "         </h3>]"
      ]
     },
     "execution_count": 43,
     "metadata": {},
     "output_type": "execute_result"
    }
   ],
   "source": [
    "# .class_name the . means \"hey, I'm looking for a class\"\n",
    "soup.select(\".first\")"
   ]
  },
  {
   "cell_type": "code",
   "execution_count": 44,
   "id": "c500d36d",
   "metadata": {},
   "outputs": [
    {
     "data": {
      "text/plain": [
       "'/features'"
      ]
     },
     "execution_count": 44,
     "metadata": {},
     "output_type": "execute_result"
    }
   ],
   "source": [
    "github_soup.select(\"a.Link--primary\")[0][\"href\"]"
   ]
  },
  {
   "cell_type": "code",
   "execution_count": 45,
   "id": "64c71af3",
   "metadata": {},
   "outputs": [
    {
     "data": {
      "text/plain": [
       "'/ryanorsinger?achievement=pull-shark&tab=achievements'"
      ]
     },
     "execution_count": 45,
     "metadata": {},
     "output_type": "execute_result"
    }
   ],
   "source": [
    "baby_shark_selector = \"#js-pjax-container > div.container-xl.px-3.px-md-4.px-lg-5 > div > div.Layout-sidebar > div > div.js-profile-editable-replace > div:nth-child(4) > div.d-flex.flex-wrap > a:nth-child(2)\"\n",
    "github_soup.select(baby_shark_selector)[0][\"href\"]"
   ]
  },
  {
   "cell_type": "code",
   "execution_count": 46,
   "id": "5c38f8b5",
   "metadata": {},
   "outputs": [
    {
     "data": {
      "text/plain": [
       "[]"
      ]
     },
     "execution_count": 46,
     "metadata": {},
     "output_type": "execute_result"
    }
   ],
   "source": [
    "github_soup.select(\"#user-repositories-list > ul > li:nth-child(1) > div.col-2.d-flex.flex-column.flex-justify-around.flex-items-end.ml-3 > div.text-right.hide-lg.hide-md.hide-sm.hide-xs.flex-self-end\")"
   ]
  },
  {
   "cell_type": "code",
   "execution_count": 47,
   "id": "8a718a9b",
   "metadata": {},
   "outputs": [],
   "source": [
    "organizations_soup = github_soup.select(\"#js-pjax-container > div.container-xl.px-3.px-md-4.px-lg-5 > div > div.Layout-sidebar > div > div.js-profile-editable-replace > div.border-top.color-border-muted.pt-3.mt-3.clearfix.hide-sm.hide-md\")"
   ]
  },
  {
   "cell_type": "code",
   "execution_count": 48,
   "id": "83122626",
   "metadata": {},
   "outputs": [
    {
     "data": {
      "text/plain": [
       "bs4.element.Tag"
      ]
     },
     "execution_count": 48,
     "metadata": {},
     "output_type": "execute_result"
    }
   ],
   "source": [
    "type(organizations_soup[0])"
   ]
  },
  {
   "cell_type": "code",
   "execution_count": 49,
   "id": "ce4c1df2",
   "metadata": {},
   "outputs": [
    {
     "data": {
      "text/plain": [
       "<div class=\"border-top color-border-muted pt-3 mt-3 clearfix hide-sm hide-md\">\n",
       "<h2 class=\"mb-2 h4\">Organizations</h2>\n",
       "<a aria-label=\"gocodeup\" class=\"avatar-group-item\" data-hovercard-type=\"organization\" data-hovercard-url=\"/orgs/gocodeup/hovercard\" data-hydro-click='{\"event_type\":\"user_profile.click\",\"payload\":{\"profile_user_id\":5657581,\"target\":\"MEMBER_ORGANIZATION_AVATAR\",\"user_id\":null,\"originating_url\":\"https://github.com/ryanorsinger\"}}' data-hydro-click-hmac=\"c16b9c4bfd966ebf5b186126d488690654514e759552a70932125d0816d1601a\" data-octo-click=\"hovercard-link-click\" data-octo-dimensions=\"link_type:self\" href=\"/gocodeup\" itemprop=\"follows\">\n",
       "<img alt=\"@gocodeup\" class=\"avatar\" data-view-component=\"true\" height=\"32\" size=\"32\" src=\"https://avatars.githubusercontent.com/u/6238347?s=64&amp;v=4\" width=\"32\"/>\n",
       "</a> <a aria-label=\"codeup-ad-lister\" class=\"avatar-group-item\" data-hovercard-type=\"organization\" data-hovercard-url=\"/orgs/codeup-ad-lister/hovercard\" data-hydro-click='{\"event_type\":\"user_profile.click\",\"payload\":{\"profile_user_id\":5657581,\"target\":\"MEMBER_ORGANIZATION_AVATAR\",\"user_id\":null,\"originating_url\":\"https://github.com/ryanorsinger\"}}' data-hydro-click-hmac=\"c16b9c4bfd966ebf5b186126d488690654514e759552a70932125d0816d1601a\" data-octo-click=\"hovercard-link-click\" data-octo-dimensions=\"link_type:self\" href=\"/codeup-ad-lister\" itemprop=\"follows\">\n",
       "<img alt=\"@codeup-ad-lister\" class=\"avatar\" data-view-component=\"true\" height=\"32\" size=\"32\" src=\"https://avatars.githubusercontent.com/u/11996572?s=64&amp;v=4\" width=\"32\"/>\n",
       "</a></div>"
      ]
     },
     "execution_count": 49,
     "metadata": {},
     "output_type": "execute_result"
    }
   ],
   "source": [
    "organizations_soup[0]"
   ]
  },
  {
   "cell_type": "code",
   "execution_count": 50,
   "id": "73a934ff",
   "metadata": {},
   "outputs": [
    {
     "data": {
      "text/plain": [
       "<h2 class=\"mb-2 h4\">Organizations</h2>"
      ]
     },
     "execution_count": 50,
     "metadata": {},
     "output_type": "execute_result"
    }
   ],
   "source": [
    "organizations_soup[0].h2"
   ]
  },
  {
   "cell_type": "code",
   "execution_count": 51,
   "id": "47622a07",
   "metadata": {},
   "outputs": [
    {
     "data": {
      "text/plain": [
       "'Organizations'"
      ]
     },
     "execution_count": 51,
     "metadata": {},
     "output_type": "execute_result"
    }
   ],
   "source": [
    "organizations_soup[0].h2.text"
   ]
  },
  {
   "cell_type": "code",
   "execution_count": 52,
   "id": "55845f7b",
   "metadata": {},
   "outputs": [
    {
     "data": {
      "text/plain": [
       "[<a aria-label=\"gocodeup\" class=\"avatar-group-item\" data-hovercard-type=\"organization\" data-hovercard-url=\"/orgs/gocodeup/hovercard\" data-hydro-click='{\"event_type\":\"user_profile.click\",\"payload\":{\"profile_user_id\":5657581,\"target\":\"MEMBER_ORGANIZATION_AVATAR\",\"user_id\":null,\"originating_url\":\"https://github.com/ryanorsinger\"}}' data-hydro-click-hmac=\"c16b9c4bfd966ebf5b186126d488690654514e759552a70932125d0816d1601a\" data-octo-click=\"hovercard-link-click\" data-octo-dimensions=\"link_type:self\" href=\"/gocodeup\" itemprop=\"follows\">\n",
       " <img alt=\"@gocodeup\" class=\"avatar\" data-view-component=\"true\" height=\"32\" size=\"32\" src=\"https://avatars.githubusercontent.com/u/6238347?s=64&amp;v=4\" width=\"32\"/>\n",
       " </a>,\n",
       " <a aria-label=\"codeup-ad-lister\" class=\"avatar-group-item\" data-hovercard-type=\"organization\" data-hovercard-url=\"/orgs/codeup-ad-lister/hovercard\" data-hydro-click='{\"event_type\":\"user_profile.click\",\"payload\":{\"profile_user_id\":5657581,\"target\":\"MEMBER_ORGANIZATION_AVATAR\",\"user_id\":null,\"originating_url\":\"https://github.com/ryanorsinger\"}}' data-hydro-click-hmac=\"c16b9c4bfd966ebf5b186126d488690654514e759552a70932125d0816d1601a\" data-octo-click=\"hovercard-link-click\" data-octo-dimensions=\"link_type:self\" href=\"/codeup-ad-lister\" itemprop=\"follows\">\n",
       " <img alt=\"@codeup-ad-lister\" class=\"avatar\" data-view-component=\"true\" height=\"32\" size=\"32\" src=\"https://avatars.githubusercontent.com/u/11996572?s=64&amp;v=4\" width=\"32\"/>\n",
       " </a>]"
      ]
     },
     "execution_count": 52,
     "metadata": {},
     "output_type": "execute_result"
    }
   ],
   "source": [
    "organizations_soup[0].select(\"a\")"
   ]
  },
  {
   "cell_type": "code",
   "execution_count": 53,
   "id": "d6afea79",
   "metadata": {},
   "outputs": [
    {
     "data": {
      "text/plain": [
       "['/gocodeup', '/codeup-ad-lister']"
      ]
     },
     "execution_count": 53,
     "metadata": {},
     "output_type": "execute_result"
    }
   ],
   "source": [
    "urls = []\n",
    "for a in organizations_soup[0].select(\"a\"):\n",
    "    # use dictionary syntax to access attribute values\n",
    "    urls.append(a[\"href\"])\n",
    "urls"
   ]
  }
 ],
 "metadata": {
  "kernelspec": {
   "display_name": "Python 3.9.7 ('base')",
   "language": "python",
   "name": "python3"
  },
  "language_info": {
   "codemirror_mode": {
    "name": "ipython",
    "version": 3
   },
   "file_extension": ".py",
   "mimetype": "text/x-python",
   "name": "python",
   "nbconvert_exporter": "python",
   "pygments_lexer": "ipython3",
   "version": "3.9.7"
  },
  "vscode": {
   "interpreter": {
    "hash": "3067ead486e059ec00ffe7555bdb889e6e264a24dc711bf108106cc7baee8d5d"
   }
  }
 },
 "nbformat": 4,
 "nbformat_minor": 5
}

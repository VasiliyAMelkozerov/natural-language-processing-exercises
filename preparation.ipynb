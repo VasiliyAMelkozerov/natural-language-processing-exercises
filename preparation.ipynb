{
 "cells": [
  {
   "cell_type": "code",
   "execution_count": 1,
   "metadata": {},
   "outputs": [
    {
     "name": "stderr",
     "output_type": "stream",
     "text": [
      "/usr/local/anaconda3/lib/python3.9/site-packages/scipy/__init__.py:146: UserWarning: A NumPy version >=1.16.5 and <1.23.0 is required for this version of SciPy (detected version 1.23.0\n",
      "  warnings.warn(f\"A NumPy version >={np_minversion} and <{np_maxversion}\"\n"
     ]
    }
   ],
   "source": [
    "import unicodedata\n",
    "import re\n",
    "import json\n",
    "\n",
    "import nltk\n",
    "from nltk.tokenize.toktok import ToktokTokenizer\n",
    "from nltk.corpus import stopwords\n",
    "\n",
    "import pandas as pd\n",
    "\n",
    "import acquire\n"
   ]
  },
  {
   "cell_type": "code",
   "execution_count": 4,
   "metadata": {},
   "outputs": [
    {
     "name": "stdout",
     "output_type": "stream",
     "text": [
      "                                                title  \\\n",
      "0   What Jobs Can You Get After a Coding Bootcamp?...   \n",
      "1   What Jobs Can You Get After a Coding Bootcamp?...   \n",
      "2   Is Our Cloud Administration Program Right for ...   \n",
      "3   5 Reasons To Attend Our New Cloud Administrati...   \n",
      "4   What Jobs Can You Get After a Coding Bootcamp?...   \n",
      "5   What Jobs Can You Get After a Coding Bootcamp?...   \n",
      "6   In-Person Workshop: Learn to Code – JavaScript...   \n",
      "7   In-Person Workshop: Learn to Code – Python on ...   \n",
      "8   Free JavaScript Workshop at Codeup Dallas on 6/28   \n",
      "9   Is Our Cloud Administration Program Right for ...   \n",
      "10                                PRIDE in Tech Panel   \n",
      "11  Inclusion at Codeup During Pride Month (and Al...   \n",
      "12                   Mental Health First Aid Training   \n",
      "13  Codeup Dallas: How to Succeed at a Coding Boot...   \n",
      "14  5 Reasons To Attend Our New Cloud Administrati...   \n",
      "15                      Learn to Code: Python on 5/21   \n",
      "16                     Codeup Dallas Joins Career Day   \n",
      "17  Project Quest Info Session: IT Jumpstart on Ma...   \n",
      "18  From Bootcamp to Bootcamp | A Military Appreci...   \n",
      "19  Our Acquisition of the Rackspace Cloud Academy...   \n",
      "20                  Learn to Code: HTML & CSS on 4/30   \n",
      "21             Learn to Code: Python Workshop on 4/23   \n",
      "\n",
      "                                              content  \n",
      "0   Have you been considering a career in Cloud Ad...  \n",
      "1   If you are interested in embarking on a career...  \n",
      "2   Changing careers can be scary. The first thing...  \n",
      "3   Come Work In The Cloud\\nWhen your Monday rolls...  \n",
      "4   Have you been considering a career in Cloud Ad...  \n",
      "5   If you are interested in embarking on a career...  \n",
      "6   Join us for our live in-person JavaScript cras...  \n",
      "7   According to LinkedIn, the “#1 Most Promising ...  \n",
      "8   Event Info: \\nLocation – Codeup Dallas\\nTime –...  \n",
      "9   Changing careers can be scary. The first thing...  \n",
      "10  In celebration of PRIDE month, join our Codeup...  \n",
      "11  Happy Pride Month! Pride Month is a dedicated ...  \n",
      "12  As a student of Codeup, going through a massiv...  \n",
      "13  This event is the perfect opportunity for peop...  \n",
      "14  Come Work In The Cloud\\nWhen your Monday rolls...  \n",
      "15  According to LinkedIn, the “#1 Most Promising ...  \n",
      "16  Last week our Codeup Dallas team participated ...  \n",
      "17  Join our grant partner Project Quest as they d...  \n",
      "18  In honor of Military Appreciation Month, join ...  \n",
      "19  Just about a year ago on April 16th, 2021 we a...  \n",
      "20  HTML & CSS are the design building blocks of a...  \n",
      "21  According to LinkedIn, the “#1 Most Promising ...  \n"
     ]
    }
   ],
   "source": [
    "original = acquire.get_blog_articles_data()\n",
    "print(original[0:500])\n"
   ]
  },
  {
   "cell_type": "code",
   "execution_count": 5,
   "metadata": {},
   "outputs": [
    {
     "ename": "AttributeError",
     "evalue": "'DataFrame' object has no attribute 'lower'",
     "output_type": "error",
     "traceback": [
      "\u001b[0;31m---------------------------------------------------------------------------\u001b[0m",
      "\u001b[0;31mAttributeError\u001b[0m                            Traceback (most recent call last)",
      "\u001b[0;32m/var/folders/cs/9mn89l_n6p3c9sq01q5f54kh0000gn/T/ipykernel_2239/2270245438.py\u001b[0m in \u001b[0;36m<module>\u001b[0;34m\u001b[0m\n\u001b[0;32m----> 1\u001b[0;31m \u001b[0marticle\u001b[0m \u001b[0;34m=\u001b[0m \u001b[0moriginal\u001b[0m\u001b[0;34m.\u001b[0m\u001b[0mlower\u001b[0m\u001b[0;34m(\u001b[0m\u001b[0;34m)\u001b[0m\u001b[0;34m\u001b[0m\u001b[0;34m\u001b[0m\u001b[0m\n\u001b[0m\u001b[1;32m      2\u001b[0m \u001b[0mprint\u001b[0m\u001b[0;34m(\u001b[0m\u001b[0marticle\u001b[0m\u001b[0;34m[\u001b[0m\u001b[0;36m0\u001b[0m\u001b[0;34m:\u001b[0m\u001b[0;36m500\u001b[0m\u001b[0;34m]\u001b[0m\u001b[0;34m)\u001b[0m\u001b[0;34m\u001b[0m\u001b[0;34m\u001b[0m\u001b[0m\n",
      "\u001b[0;32m/usr/local/anaconda3/lib/python3.9/site-packages/pandas/core/generic.py\u001b[0m in \u001b[0;36m__getattr__\u001b[0;34m(self, name)\u001b[0m\n\u001b[1;32m   5485\u001b[0m         ):\n\u001b[1;32m   5486\u001b[0m             \u001b[0;32mreturn\u001b[0m \u001b[0mself\u001b[0m\u001b[0;34m[\u001b[0m\u001b[0mname\u001b[0m\u001b[0;34m]\u001b[0m\u001b[0;34m\u001b[0m\u001b[0;34m\u001b[0m\u001b[0m\n\u001b[0;32m-> 5487\u001b[0;31m         \u001b[0;32mreturn\u001b[0m \u001b[0mobject\u001b[0m\u001b[0;34m.\u001b[0m\u001b[0m__getattribute__\u001b[0m\u001b[0;34m(\u001b[0m\u001b[0mself\u001b[0m\u001b[0;34m,\u001b[0m \u001b[0mname\u001b[0m\u001b[0;34m)\u001b[0m\u001b[0;34m\u001b[0m\u001b[0;34m\u001b[0m\u001b[0m\n\u001b[0m\u001b[1;32m   5488\u001b[0m \u001b[0;34m\u001b[0m\u001b[0m\n\u001b[1;32m   5489\u001b[0m     \u001b[0;32mdef\u001b[0m \u001b[0m__setattr__\u001b[0m\u001b[0;34m(\u001b[0m\u001b[0mself\u001b[0m\u001b[0;34m,\u001b[0m \u001b[0mname\u001b[0m\u001b[0;34m:\u001b[0m \u001b[0mstr\u001b[0m\u001b[0;34m,\u001b[0m \u001b[0mvalue\u001b[0m\u001b[0;34m)\u001b[0m \u001b[0;34m->\u001b[0m \u001b[0;32mNone\u001b[0m\u001b[0;34m:\u001b[0m\u001b[0;34m\u001b[0m\u001b[0;34m\u001b[0m\u001b[0m\n",
      "\u001b[0;31mAttributeError\u001b[0m: 'DataFrame' object has no attribute 'lower'"
     ]
    }
   ],
   "source": [
    "article = original.lower()\n",
    "print(article[0:500])\n"
   ]
  },
  {
   "cell_type": "code",
   "execution_count": null,
   "metadata": {},
   "outputs": [],
   "source": []
  }
 ],
 "metadata": {
  "kernelspec": {
   "display_name": "Python 3.9.7 ('base')",
   "language": "python",
   "name": "python3"
  },
  "language_info": {
   "codemirror_mode": {
    "name": "ipython",
    "version": 3
   },
   "file_extension": ".py",
   "mimetype": "text/x-python",
   "name": "python",
   "nbconvert_exporter": "python",
   "pygments_lexer": "ipython3",
   "version": "3.9.7"
  },
  "orig_nbformat": 4,
  "vscode": {
   "interpreter": {
    "hash": "3067ead486e059ec00ffe7555bdb889e6e264a24dc711bf108106cc7baee8d5d"
   }
  }
 },
 "nbformat": 4,
 "nbformat_minor": 2
}
